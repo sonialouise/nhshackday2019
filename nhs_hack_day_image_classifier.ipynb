{
 "cells": [
  {
   "cell_type": "code",
   "execution_count": 1,
   "metadata": {},
   "outputs": [
    {
     "name": "stderr",
     "output_type": "stream",
     "text": [
      "Using TensorFlow backend.\n"
     ]
    }
   ],
   "source": [
    "import keras\n",
    "from keras.models import Sequential\n",
    "from keras.layers import Dense, Dropout, Flatten\n",
    "from keras.layers import Conv2D, MaxPooling2D\n",
    "from keras.utils import to_categorical\n",
    "from keras.preprocessing import image\n",
    "import numpy as np\n",
    "import pandas as pd\n",
    "import matplotlib.pyplot as plt\n",
    "from sklearn.model_selection import train_test_split\n",
    "from sklearn.metrics import confusion_matrix\n",
    "from keras.utils import to_categorical\n",
    "from tqdm import tqdm\n",
    "from PIL import Image\n",
    "import pickle\n",
    "import numpy as np\n",
    "from sklearn.neural_network import MLPRegressor"
   ]
  },
  {
   "cell_type": "code",
   "execution_count": 2,
   "metadata": {},
   "outputs": [],
   "source": [
    "train = pd.read_csv('train/training_images.csv')"
   ]
  },
  {
   "cell_type": "code",
   "execution_count": 3,
   "metadata": {},
   "outputs": [
    {
     "name": "stderr",
     "output_type": "stream",
     "text": [
      "100%|████████████████████████████████████████████████████████████████████████████████| 164/164 [00:02<00:00, 61.31it/s]\n"
     ]
    }
   ],
   "source": [
    "train_image = []\n",
    "for i in tqdm(range(train.shape[0])):\n",
    "    img = image.load_img('train/images/'+train['file_name'][i], target_size=(28,28,1), grayscale=False)\n",
    "    img = image.img_to_array(img)\n",
    "    img = img/255\n",
    "    train_image.append(img)\n",
    "X = np.array(train_image)"
   ]
  },
  {
   "cell_type": "code",
   "execution_count": 4,
   "metadata": {},
   "outputs": [],
   "source": [
    "y=train['infected'].values\n",
    "y = to_categorical(y)"
   ]
  },
  {
   "cell_type": "code",
   "execution_count": 5,
   "metadata": {},
   "outputs": [],
   "source": [
    "X_train, X_test, y_train, y_test = train_test_split(X, y, random_state=42, test_size=0.2)"
   ]
  },
  {
   "cell_type": "code",
   "execution_count": 6,
   "metadata": {
    "scrolled": true
   },
   "outputs": [
    {
     "name": "stdout",
     "output_type": "stream",
     "text": [
      "WARNING:tensorflow:From c:\\programdata\\anaconda3\\envs\\nhshackday\\lib\\site-packages\\tensorflow\\python\\framework\\op_def_library.py:263: colocate_with (from tensorflow.python.framework.ops) is deprecated and will be removed in a future version.\n",
      "Instructions for updating:\n",
      "Colocations handled automatically by placer.\n",
      "WARNING:tensorflow:From c:\\programdata\\anaconda3\\envs\\nhshackday\\lib\\site-packages\\keras\\backend\\tensorflow_backend.py:3445: calling dropout (from tensorflow.python.ops.nn_ops) with keep_prob is deprecated and will be removed in a future version.\n",
      "Instructions for updating:\n",
      "Please use `rate` instead of `keep_prob`. Rate should be set to `rate = 1 - keep_prob`.\n"
     ]
    }
   ],
   "source": [
    "model = Sequential()\n",
    "model.add(Conv2D(32, kernel_size=(3, 3),activation='relu',input_shape=(28, 28, 3)))\n",
    "model.add(Conv2D(64, (3, 3), activation='relu'))\n",
    "model.add(MaxPooling2D(pool_size=(2, 2)))\n",
    "model.add(Dropout(0.25))\n",
    "model.add(Flatten())\n",
    "model.add(Dense(128, activation='relu'))\n",
    "model.add(Dropout(0.5))\n",
    "model.add(Dense(2, activation='softmax'))"
   ]
  },
  {
   "cell_type": "code",
   "execution_count": 7,
   "metadata": {},
   "outputs": [
    {
     "name": "stdout",
     "output_type": "stream",
     "text": [
      "_________________________________________________________________\n",
      "Layer (type)                 Output Shape              Param #   \n",
      "=================================================================\n",
      "conv2d_1 (Conv2D)            (None, 26, 26, 32)        896       \n",
      "_________________________________________________________________\n",
      "conv2d_2 (Conv2D)            (None, 24, 24, 64)        18496     \n",
      "_________________________________________________________________\n",
      "max_pooling2d_1 (MaxPooling2 (None, 12, 12, 64)        0         \n",
      "_________________________________________________________________\n",
      "dropout_1 (Dropout)          (None, 12, 12, 64)        0         \n",
      "_________________________________________________________________\n",
      "flatten_1 (Flatten)          (None, 9216)              0         \n",
      "_________________________________________________________________\n",
      "dense_1 (Dense)              (None, 128)               1179776   \n",
      "_________________________________________________________________\n",
      "dropout_2 (Dropout)          (None, 128)               0         \n",
      "_________________________________________________________________\n",
      "dense_2 (Dense)              (None, 2)                 258       \n",
      "=================================================================\n",
      "Total params: 1,199,426\n",
      "Trainable params: 1,199,426\n",
      "Non-trainable params: 0\n",
      "_________________________________________________________________\n"
     ]
    }
   ],
   "source": [
    "model.summary()"
   ]
  },
  {
   "cell_type": "code",
   "execution_count": 8,
   "metadata": {},
   "outputs": [],
   "source": [
    "model.compile(loss='categorical_crossentropy',optimizer='Adam',metrics=['accuracy'])"
   ]
  },
  {
   "cell_type": "code",
   "execution_count": 9,
   "metadata": {
    "scrolled": true
   },
   "outputs": [
    {
     "name": "stdout",
     "output_type": "stream",
     "text": [
      "WARNING:tensorflow:From c:\\programdata\\anaconda3\\envs\\nhshackday\\lib\\site-packages\\tensorflow\\python\\ops\\math_ops.py:3066: to_int32 (from tensorflow.python.ops.math_ops) is deprecated and will be removed in a future version.\n",
      "Instructions for updating:\n",
      "Use tf.cast instead.\n",
      "Train on 131 samples, validate on 33 samples\n",
      "Epoch 1/10\n",
      "131/131 [==============================] - ETA: 2s - loss: 0.6989 - acc: 0.437 - ETA: 1s - loss: 0.7900 - acc: 0.437 - ETA: 0s - loss: 0.7607 - acc: 0.479 - ETA: 0s - loss: 0.7481 - acc: 0.492 - 1s 11ms/step - loss: 0.7472 - acc: 0.4885 - val_loss: 0.6589 - val_acc: 0.7273\n",
      "Epoch 2/10\n",
      "131/131 [==============================] - ETA: 0s - loss: 0.7193 - acc: 0.406 - ETA: 0s - loss: 0.6696 - acc: 0.562 - ETA: 0s - loss: 0.6941 - acc: 0.520 - ETA: 0s - loss: 0.6843 - acc: 0.554 - 1s 4ms/step - loss: 0.6834 - acc: 0.5573 - val_loss: 0.6213 - val_acc: 0.7273\n",
      "Epoch 3/10\n",
      "131/131 [==============================] - ETA: 0s - loss: 0.6714 - acc: 0.562 - ETA: 0s - loss: 0.6645 - acc: 0.578 - ETA: 0s - loss: 0.6791 - acc: 0.562 - ETA: 0s - loss: 0.6773 - acc: 0.585 - 1s 4ms/step - loss: 0.6756 - acc: 0.5954 - val_loss: 0.6524 - val_acc: 0.7273\n",
      "Epoch 4/10\n",
      "131/131 [==============================] - ETA: 0s - loss: 0.6217 - acc: 0.750 - ETA: 0s - loss: 0.6536 - acc: 0.640 - ETA: 0s - loss: 0.6610 - acc: 0.625 - ETA: 0s - loss: 0.6630 - acc: 0.617 - 1s 4ms/step - loss: 0.6647 - acc: 0.6183 - val_loss: 0.6282 - val_acc: 0.7273\n",
      "Epoch 5/10\n",
      "131/131 [==============================] - ETA: 0s - loss: 0.6087 - acc: 0.750 - ETA: 0s - loss: 0.6198 - acc: 0.687 - ETA: 0s - loss: 0.6493 - acc: 0.625 - ETA: 0s - loss: 0.6479 - acc: 0.625 - 0s 4ms/step - loss: 0.6450 - acc: 0.6336 - val_loss: 0.6899 - val_acc: 0.4545\n",
      "Epoch 6/10\n",
      "131/131 [==============================] - ETA: 0s - loss: 0.5900 - acc: 0.781 - ETA: 0s - loss: 0.6266 - acc: 0.734 - ETA: 0s - loss: 0.6083 - acc: 0.739 - ETA: 0s - loss: 0.6062 - acc: 0.742 - 1s 4ms/step - loss: 0.6062 - acc: 0.7405 - val_loss: 0.6510 - val_acc: 0.6364\n",
      "Epoch 7/10\n",
      "131/131 [==============================] - ETA: 0s - loss: 0.6037 - acc: 0.656 - ETA: 0s - loss: 0.5943 - acc: 0.671 - ETA: 0s - loss: 0.5645 - acc: 0.739 - ETA: 0s - loss: 0.5639 - acc: 0.742 - 0s 4ms/step - loss: 0.5636 - acc: 0.7481 - val_loss: 0.6292 - val_acc: 0.7273\n",
      "Epoch 8/10\n",
      "131/131 [==============================] - ETA: 0s - loss: 0.4790 - acc: 0.812 - ETA: 0s - loss: 0.5560 - acc: 0.687 - ETA: 0s - loss: 0.5536 - acc: 0.708 - ETA: 0s - loss: 0.5853 - acc: 0.687 - 1s 4ms/step - loss: 0.5814 - acc: 0.6947 - val_loss: 0.6466 - val_acc: 0.6061\n",
      "Epoch 9/10\n",
      "131/131 [==============================] - ETA: 0s - loss: 0.5462 - acc: 0.781 - ETA: 0s - loss: 0.5490 - acc: 0.781 - ETA: 0s - loss: 0.5399 - acc: 0.791 - ETA: 0s - loss: 0.5400 - acc: 0.773 - 1s 4ms/step - loss: 0.5375 - acc: 0.7786 - val_loss: 0.5854 - val_acc: 0.6667\n",
      "Epoch 10/10\n",
      "131/131 [==============================] - ETA: 0s - loss: 0.4901 - acc: 0.843 - ETA: 0s - loss: 0.4709 - acc: 0.828 - ETA: 0s - loss: 0.4597 - acc: 0.822 - ETA: 0s - loss: 0.4897 - acc: 0.773 - 1s 4ms/step - loss: 0.4907 - acc: 0.7710 - val_loss: 0.6418 - val_acc: 0.5455\n"
     ]
    }
   ],
   "source": [
    "y_pred = model.fit(X_train, y_train, epochs=10, validation_data=(X_test, y_test))"
   ]
  },
  {
   "cell_type": "code",
   "execution_count": 10,
   "metadata": {},
   "outputs": [],
   "source": [
    "test = pd.read_csv('test/test_images.csv')"
   ]
  },
  {
   "cell_type": "code",
   "execution_count": 11,
   "metadata": {},
   "outputs": [
    {
     "data": {
      "text/html": [
       "<div>\n",
       "<style scoped>\n",
       "    .dataframe tbody tr th:only-of-type {\n",
       "        vertical-align: middle;\n",
       "    }\n",
       "\n",
       "    .dataframe tbody tr th {\n",
       "        vertical-align: top;\n",
       "    }\n",
       "\n",
       "    .dataframe thead th {\n",
       "        text-align: right;\n",
       "    }\n",
       "</style>\n",
       "<table border=\"1\" class=\"dataframe\">\n",
       "  <thead>\n",
       "    <tr style=\"text-align: right;\">\n",
       "      <th></th>\n",
       "      <th>file_name</th>\n",
       "      <th>infected</th>\n",
       "    </tr>\n",
       "  </thead>\n",
       "  <tbody>\n",
       "    <tr>\n",
       "      <th>0</th>\n",
       "      <td>23.infected%20wound.jpg</td>\n",
       "      <td>NaN</td>\n",
       "    </tr>\n",
       "    <tr>\n",
       "      <th>1</th>\n",
       "      <td>23.shutterstock_361288121-189209.jpg</td>\n",
       "      <td>NaN</td>\n",
       "    </tr>\n",
       "    <tr>\n",
       "      <th>2</th>\n",
       "      <td>23.wound-infected.png</td>\n",
       "      <td>NaN</td>\n",
       "    </tr>\n",
       "    <tr>\n",
       "      <th>3</th>\n",
       "      <td>24.7403-skin_infection_from_wound-1296x728-sli...</td>\n",
       "      <td>NaN</td>\n",
       "    </tr>\n",
       "    <tr>\n",
       "      <th>4</th>\n",
       "      <td>24.c1066-woundinfection.jpg</td>\n",
       "      <td>NaN</td>\n",
       "    </tr>\n",
       "  </tbody>\n",
       "</table>\n",
       "</div>"
      ],
      "text/plain": [
       "                                           file_name  infected\n",
       "0                            23.infected%20wound.jpg       NaN\n",
       "1               23.shutterstock_361288121-189209.jpg       NaN\n",
       "2                              23.wound-infected.png       NaN\n",
       "3  24.7403-skin_infection_from_wound-1296x728-sli...       NaN\n",
       "4                        24.c1066-woundinfection.jpg       NaN"
      ]
     },
     "execution_count": 11,
     "metadata": {},
     "output_type": "execute_result"
    }
   ],
   "source": [
    "test.head()"
   ]
  },
  {
   "cell_type": "code",
   "execution_count": 12,
   "metadata": {},
   "outputs": [
    {
     "name": "stderr",
     "output_type": "stream",
     "text": [
      "100%|██████████████████████████████████████████████████████████████████████████████████| 22/22 [00:00<00:00, 73.97it/s]\n"
     ]
    }
   ],
   "source": [
    "test_image = []\n",
    "for i in tqdm(range(test.shape[0])):\n",
    "    img = image.load_img('test/images/'+test['file_name'][i], target_size=(28,28,1), grayscale=False)\n",
    "    img = image.img_to_array(img)\n",
    "    img = img/255\n",
    "    test_image.append(img)\n",
    "test_array = np.array(test_image)"
   ]
  },
  {
   "cell_type": "code",
   "execution_count": 13,
   "metadata": {},
   "outputs": [],
   "source": [
    "prediction = model.predict_classes(test_array)"
   ]
  },
  {
   "cell_type": "code",
   "execution_count": 14,
   "metadata": {},
   "outputs": [
    {
     "name": "stdout",
     "output_type": "stream",
     "text": [
      "[1 1 1 0 1 0 1 1 1 0 1 1 1 0 1 1 1 1 1 1 1 1]\n"
     ]
    }
   ],
   "source": [
    "print(prediction)"
   ]
  },
  {
   "cell_type": "code",
   "execution_count": 15,
   "metadata": {},
   "outputs": [],
   "source": [
    "test['infected'] = prediction"
   ]
  },
  {
   "cell_type": "code",
   "execution_count": 16,
   "metadata": {},
   "outputs": [
    {
     "name": "stdout",
     "output_type": "stream",
     "text": [
      "                                            file_name  infected\n",
      "0                             23.infected%20wound.jpg         1\n",
      "1                23.shutterstock_361288121-189209.jpg         1\n",
      "2                               23.wound-infected.png         1\n",
      "3   24.7403-skin_infection_from_wound-1296x728-sli...         0\n",
      "4                         24.c1066-woundinfection.jpg         1\n",
      "5         24.fibrinous%20to%20granulating%20wound.jpg         0\n",
      "6   25.3-s2.0-B9781437727869000126-f012-006-978143...         1\n",
      "7                         25.c1066-woundinfection.jpg         1\n",
      "8   25.Fight-or-flight-hormone-could-impact-wound-...         1\n",
      "9   26.7403-skin_infection_from_wound-1296x728-sli...         0\n",
      "10                       26.getty_rf_blood_finger.jpg         1\n",
      "11                                    26.IMG_0925.jpg         1\n",
      "12  27.Longstanding-nonhealing-infected-wound-to-t...         1\n",
      "13                               27.maxresdefault.jpg         0\n",
      "14        28.amputation_site_infected_and_sloughy.jpg         1\n",
      "15                                   28.hqdefault.jpg         1\n",
      "16                             28.Wound-Infection.jpg         1\n",
      "17  29.493ss_science_source_rm_infected_wound_on_m...         1\n",
      "18                                       29.m7_04.jpg         1\n",
      "19        29.Staph-Infection-Wound-Abcess-300x191.jpg         1\n",
      "20    30.chronic-non-healing-wound-management-img.jpg         1\n",
      "21                         30.IMWD_Infection_Free.jpg         1\n"
     ]
    }
   ],
   "source": [
    "print(test)"
   ]
  },
  {
   "cell_type": "code",
   "execution_count": 17,
   "metadata": {},
   "outputs": [],
   "source": [
    "with open('model.pkl', 'wb') as handle:\n",
    "    pickle.dump(model, handle, pickle.HIGHEST_PROTOCOL)"
   ]
  },
  {
   "cell_type": "code",
   "execution_count": null,
   "metadata": {},
   "outputs": [],
   "source": []
  }
 ],
 "metadata": {
  "kernelspec": {
   "display_name": "nhshackday",
   "language": "python",
   "name": "nhshackday"
  },
  "language_info": {
   "codemirror_mode": {
    "name": "ipython",
    "version": 3
   },
   "file_extension": ".py",
   "mimetype": "text/x-python",
   "name": "python",
   "nbconvert_exporter": "python",
   "pygments_lexer": "ipython3",
   "version": "3.7.3"
  }
 },
 "nbformat": 4,
 "nbformat_minor": 2
}
